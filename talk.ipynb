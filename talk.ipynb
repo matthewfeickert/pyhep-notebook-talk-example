{
 "cells": [
  {
   "cell_type": "markdown",
   "id": "dcaf2258",
   "metadata": {},
   "source": [
    "# Talk Title"
   ]
  },
  {
   "cell_type": "code",
   "execution_count": null,
   "id": "e090787a",
   "metadata": {},
   "outputs": [],
   "source": [
    "from hist import Hist\n",
    "import hist\n",
    "import numpy as np\n",
    "import awkward as ak"
   ]
  },
  {
   "cell_type": "markdown",
   "id": "8f9d4635",
   "metadata": {},
   "source": [
    "Text and images motivating the talk"
   ]
  },
  {
   "cell_type": "code",
   "execution_count": null,
   "id": "8a1ad140",
   "metadata": {},
   "outputs": [],
   "source": [
    "example_hist = Hist(\n",
    "    hist.axis.Regular(\n",
    "        50, -5, 5, name=\"S\", label=\"s [units]\", underflow=False, overflow=False\n",
    "    ),\n",
    "    hist.axis.Regular(\n",
    "        50, -5, 5, name=\"W\", label=\"w [units]\", underflow=False, overflow=False\n",
    "    ),\n",
    ")"
   ]
  },
  {
   "cell_type": "code",
   "execution_count": null,
   "id": "baaafd7b",
   "metadata": {},
   "outputs": [],
   "source": [
    "s_data = np.random.normal(size=50_000)\n",
    "w_data = np.random.normal(size=50_000)\n",
    "\n",
    "# normal fill\n",
    "example_hist.fill(s_data, w_data)\n",
    "\n",
    "# Clear the data since we want to fill again with the same data\n",
    "example_hist.reset()\n",
    "\n",
    "# fill by names\n",
    "example_hist.fill(W=w_data, S=s_data)"
   ]
  },
  {
   "cell_type": "code",
   "execution_count": null,
   "id": "2f854d29",
   "metadata": {},
   "outputs": [],
   "source": [
    "np_array = np.array([1.1, 2.2, 3.3, 4.4, 5.5, 6.6, 7.7, 8.8, 9.9])\n",
    "np_array"
   ]
  },
  {
   "cell_type": "code",
   "execution_count": null,
   "id": "5d66977b",
   "metadata": {},
   "outputs": [],
   "source": [
    "ak_array = ak.from_numpy(np_array)\n",
    "ak_array"
   ]
  },
  {
   "cell_type": "code",
   "execution_count": null,
   "id": "b6280f3c",
   "metadata": {},
   "outputs": [],
   "source": [
    "ak_array = ak.Array(np_array)\n",
    "ak_array"
   ]
  }
 ],
 "metadata": {
  "kernelspec": {
   "display_name": "Python 3",
   "language": "python",
   "name": "python3"
  },
  "language_info": {
   "codemirror_mode": {
    "name": "ipython",
    "version": 3
   },
   "file_extension": ".py",
   "mimetype": "text/x-python",
   "name": "python",
   "nbconvert_exporter": "python",
   "pygments_lexer": "ipython3",
   "version": "3.8.7"
  }
 },
 "nbformat": 4,
 "nbformat_minor": 5
}
